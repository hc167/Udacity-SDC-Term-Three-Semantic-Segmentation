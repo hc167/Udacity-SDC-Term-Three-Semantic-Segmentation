{
 "cells": [
  {
   "cell_type": "code",
   "execution_count": 1,
   "metadata": {},
   "outputs": [
    {
     "name": "stdout",
     "output_type": "stream",
     "text": [
      "TensorFlow Version: 1.0.0\n"
     ]
    }
   ],
   "source": [
    "#import matplotlib.pyplot as plt\n",
    "#import matplotlib.image as mpimg\n",
    "import project_tests as tests\n",
    "import helper\n",
    "import numpy as np\n",
    "import cv2\n",
    "from PIL import Image\n",
    "import tensorflow as tf\n",
    "import warnings\n",
    "import os.path\n",
    "%matplotlib inline\n",
    "\n",
    "from distutils.version import LooseVersion\n",
    "\n",
    "# Check TensorFlow Version\n",
    "assert LooseVersion(tf.__version__) >= LooseVersion('1.0'), 'Please use TensorFlow version 1.0 or newer.  You are using {}'.format(tf.__version__)\n",
    "print('TensorFlow Version: {}'.format(tf.__version__))"
   ]
  },
  {
   "cell_type": "code",
   "execution_count": 2,
   "metadata": {},
   "outputs": [
    {
     "name": "stderr",
     "output_type": "stream",
     "text": [
      "/Users/hiuchan/anaconda/envs/tensorflow/lib/python3.5/site-packages/ipykernel_launcher.py:2: UserWarning: No GPU found, Please use a GPU to train the model\n",
      "  \n"
     ]
    }
   ],
   "source": [
    "if not tf.test.gpu_device_name():\n",
    "    warnings.warn(\"No GPU found, Please use a GPU to train the model\")\n",
    "else:\n",
    "    print('Default GPU Device: {}'.format(tf.test.gpu_device_name()))"
   ]
  },
  {
   "cell_type": "code",
   "execution_count": 3,
   "metadata": {
    "collapsed": true
   },
   "outputs": [],
   "source": [
    "def load_vgg(sess, vgg_path):\n",
    "    \"\"\"\n",
    "    Load Pretrained VGG Model into TensorFlow.\n",
    "    :param sess: TensorFlow Session\n",
    "    :param vgg_path: Path to vgg folder, containing \"variables/\" and \"saved_model.pb\"\n",
    "    :return: Tuple of Tensors from VGG model (image_input, keep_prob, layer3_out, layer4_out, layer7_out)\n",
    "    \"\"\"\n",
    "    vgg_tag = 'vgg16'\n",
    "    tf.saved_model.loader.load(sess, [vgg_tag], vgg_path)\n",
    "    image_input = tf.get_default_graph().get_tensor_by_name('image_input:0')\n",
    "    keep_prob = tf.get_default_graph().get_tensor_by_name('keep_prob:0')\n",
    "    layer3_out = tf.get_default_graph().get_tensor_by_name('layer3_out:0')\n",
    "    layer4_out = tf.get_default_graph().get_tensor_by_name('layer4_out:0')\n",
    "    layer7_out = tf.get_default_graph().get_tensor_by_name('layer7_out:0')\n",
    "\n",
    "    return image_input, keep_prob, layer3_out, layer4_out, layer7_out   "
   ]
  },
  {
   "cell_type": "code",
   "execution_count": 4,
   "metadata": {},
   "outputs": [
    {
     "name": "stdout",
     "output_type": "stream",
     "text": [
      "Tests Passed\n"
     ]
    }
   ],
   "source": [
    "tests.test_load_vgg(load_vgg, tf)"
   ]
  },
  {
   "cell_type": "code",
   "execution_count": 5,
   "metadata": {
    "collapsed": true
   },
   "outputs": [],
   "source": [
    "def layers(vgg_layer3_out, vgg_layer4_out, vgg_layer7_out, num_classes):\n",
    "    \"\"\"\n",
    "    Create the layers for a fully convolutional network.  Build skip-layers using the vgg layers.\n",
    "    :param vgg_layer7_out: TF Tensor for VGG Layer 3 output\n",
    "    :param vgg_layer4_out: TF Tensor for VGG Layer 4 output\n",
    "    :param vgg_layer3_out: TF Tensor for VGG Layer 7 output\n",
    "    :param num_classes: Number of classes to classify\n",
    "    :return: The Tensor for the last layer of output\n",
    "    \"\"\"\n",
    "    # TODO: Implement function\n",
    "    # 1x1 convolution of vgg layer 7\n",
    "    layer7a_out = tf.layers.conv2d(vgg_layer7_out, num_classes, 1, \n",
    "                                   padding= 'same', \n",
    "                                   kernel_initializer= tf.random_normal_initializer(stddev=0.01),\n",
    "                                   kernel_regularizer= tf.contrib.layers.l2_regularizer(1e-3))\n",
    "    # upsample\n",
    "    layer4a_in1 = tf.layers.conv2d_transpose(layer7a_out, num_classes, 4, \n",
    "                                             strides= (2, 2), \n",
    "                                             padding= 'same', \n",
    "                                             kernel_initializer= tf.random_normal_initializer(stddev=0.01), \n",
    "                                             kernel_regularizer= tf.contrib.layers.l2_regularizer(1e-3))\n",
    "    # make sure the shapes are the same!\n",
    "    # 1x1 convolution of vgg layer 4\n",
    "    layer4a_in2 = tf.layers.conv2d(vgg_layer4_out, num_classes, 1, \n",
    "                                   padding= 'same', \n",
    "                                   kernel_initializer= tf.random_normal_initializer(stddev=0.01), \n",
    "                                   kernel_regularizer= tf.contrib.layers.l2_regularizer(1e-3))\n",
    "    # skip connection (element-wise addition)\n",
    "    layer4a_out = tf.add(layer4a_in1, layer4a_in2)\n",
    "    # upsample\n",
    "    layer3a_in1 = tf.layers.conv2d_transpose(layer4a_out, num_classes, 4,  \n",
    "                                             strides= (2, 2), \n",
    "                                             padding= 'same', \n",
    "                                             kernel_initializer= tf.random_normal_initializer(stddev=0.01), \n",
    "                                             kernel_regularizer= tf.contrib.layers.l2_regularizer(1e-3))\n",
    "    # 1x1 convolution of vgg layer 3\n",
    "    layer3a_in2 = tf.layers.conv2d(vgg_layer3_out, num_classes, 1, \n",
    "                                   padding= 'same', \n",
    "                                   kernel_initializer= tf.random_normal_initializer(stddev=0.01), \n",
    "                                   kernel_regularizer= tf.contrib.layers.l2_regularizer(1e-3))\n",
    "    # skip connection (element-wise addition)\n",
    "    layer3a_out = tf.add(layer3a_in1, layer3a_in2)\n",
    "    # upsample\n",
    "    nn_last_layer = tf.layers.conv2d_transpose(layer3a_out, num_classes, 16,  \n",
    "                                               strides= (8, 8), \n",
    "                                               padding= 'same', \n",
    "                                               kernel_initializer= tf.random_normal_initializer(stddev=0.01), \n",
    "                                               kernel_regularizer= tf.contrib.layers.l2_regularizer(1e-3))\n",
    "    return nn_last_layer\n"
   ]
  },
  {
   "cell_type": "code",
   "execution_count": 6,
   "metadata": {},
   "outputs": [
    {
     "name": "stdout",
     "output_type": "stream",
     "text": [
      "Tests Passed\n"
     ]
    }
   ],
   "source": [
    "tests.test_layers(layers)"
   ]
  },
  {
   "cell_type": "code",
   "execution_count": 7,
   "metadata": {
    "collapsed": true
   },
   "outputs": [],
   "source": [
    "def optimize(nn_last_layer, correct_label, learning_rate, num_classes):\n",
    "    \"\"\"\n",
    "    Build the TensorFLow loss and optimizer operations.\n",
    "    :param nn_last_layer: TF Tensor of the last layer in the neural network\n",
    "    :param correct_label: TF Placeholder for the correct label image\n",
    "    :param learning_rate: TF Placeholder for the learning rate\n",
    "    :param num_classes: Number of classes to classify\n",
    "    :return: Tuple of (logits, train_op, cross_entropy_loss)\n",
    "    \"\"\"\n",
    "    # TODO: Implement function\n",
    "    # make logits a 2D tensor where each row represents a pixel and each column a class\n",
    "    logits = tf.reshape(nn_last_layer, (-1, num_classes))\n",
    "    correct_label = tf.reshape(correct_label, (-1,num_classes))\n",
    "    # define loss function\n",
    "    cross_entropy_loss = tf.reduce_mean(tf.nn.softmax_cross_entropy_with_logits(logits=logits, labels=correct_label))\n",
    "    # define training operation\n",
    "    optimizer = tf.train.AdamOptimizer(learning_rate=learning_rate)\n",
    "    train_op = optimizer.minimize(cross_entropy_loss)\n",
    "\n",
    "    return logits, train_op, cross_entropy_loss"
   ]
  },
  {
   "cell_type": "code",
   "execution_count": 8,
   "metadata": {},
   "outputs": [
    {
     "name": "stdout",
     "output_type": "stream",
     "text": [
      "Tests Passed\n"
     ]
    }
   ],
   "source": [
    "tests.test_optimize(optimize)"
   ]
  },
  {
   "cell_type": "code",
   "execution_count": 9,
   "metadata": {
    "collapsed": true
   },
   "outputs": [],
   "source": [
    "def train_nn(sess, epochs, batch_size, get_batches_fn, train_op, cross_entropy_loss, input_image,\n",
    "             correct_label, keep_prob, learning_rate):\n",
    "    \"\"\"\n",
    "    Train neural network and print out the loss during training.\n",
    "    :param sess: TF Session\n",
    "    :param epochs: Number of epochs\n",
    "    :param batch_size: Batch size\n",
    "    :param get_batches_fn: Function to get batches of training data.  Call using get_batches_fn(batch_size)\n",
    "    :param train_op: TF Operation to train the neural network\n",
    "    :param cross_entropy_loss: TF Tensor for the amount of loss\n",
    "    :param input_image: TF Placeholder for input images\n",
    "    :param correct_label: TF Placeholder for label images\n",
    "    :param keep_prob: TF Placeholder for dropout keep probability\n",
    "    :param learning_rate: TF Placeholder for learning rate\n",
    "    \"\"\"\n",
    "    # TODO: Implement function\n",
    "    sess.run(tf.global_variables_initializer())\n",
    "    \n",
    "    print(\"Training...\")\n",
    "    print()\n",
    "    for i in range(epochs):\n",
    "        print(\"EPOCH {} ...\".format(i+1))\n",
    "        for image, label in get_batches_fn(batch_size):\n",
    "            _, loss = sess.run([train_op, cross_entropy_loss], \n",
    "                               feed_dict={input_image: image, correct_label: label, keep_prob: 0.5, learning_rate: 0.0009})\n",
    "            print(\"Loss: = {:.3f}\".format(loss))\n",
    "    print()"
   ]
  },
  {
   "cell_type": "code",
   "execution_count": 10,
   "metadata": {
    "collapsed": true
   },
   "outputs": [],
   "source": [
    "tests.test_train_nn(train_nn)"
   ]
  },
  {
   "cell_type": "code",
   "execution_count": 16,
   "metadata": {
    "collapsed": true
   },
   "outputs": [],
   "source": [
    "def run():\n",
    "    num_classes = 2\n",
    "    image_shape = (160, 576)\n",
    "    data_dir = './data'\n",
    "    runs_dir = './runs'\n",
    "    tests.test_for_kitti_dataset(data_dir)\n",
    "\n",
    "    # Download pretrained vgg model\n",
    "    helper.maybe_download_pretrained_vgg(data_dir)\n",
    "\n",
    "    # OPTIONAL: Train and Inference on the cityscapes dataset instead of the Kitti dataset.\n",
    "    # You'll need a GPU with at least 10 teraFLOPS to train on.\n",
    "    #  https://www.cityscapes-dataset.com/\n",
    "\n",
    "    with tf.Session() as sess:\n",
    "        # Path to vgg model\n",
    "        vgg_path = os.path.join(data_dir, 'vgg')\n",
    "        # Create function to get batches\n",
    "        get_batches_fn = helper.gen_batch_function(os.path.join(data_dir, 'data_road/training'), image_shape)\n",
    "\n",
    "        # OPTIONAL: Augment Images for better results\n",
    "        #  https://datascience.stackexchange.com/questions/5224/how-to-prepare-augment-images-for-neural-network\n",
    "\n",
    "        # TODO: Build NN using load_vgg, layers, and optimize function\n",
    "\n",
    "        epochs = 50\n",
    "        batch_size = 5\n",
    "        \n",
    "        correct_label = tf.placeholder(tf.int32, [None, None, None, num_classes], name='correct_label')\n",
    "        learning_rate = tf.placeholder(tf.float32, name='learning_rate')\n",
    "        input_image, keep_prob, vgg_layer3, vgg_layer4, vgg_layer7 = load_vgg(sess, vgg_path)\n",
    "        \n",
    "        nn_last_layer = layers(vgg_layer3, vgg_layer4, vgg_layer7, num_classes)\n",
    "        \n",
    "        logits, train_op, cross_entropy_loss = optimize(nn_last_layer, correct_label, learning_rate, num_classes)\n",
    "\n",
    "        # TODO: Train NN using the train_nn function\n",
    "        train_nn(sess, epochs, batch_size, get_batches_fn, train_op, cross_entropy_loss, input_image, \n",
    "                 correct_label, keep_prob, learning_rate)\n",
    "\n",
    "        # TODO: Save inference data using helper.save_inference_samples\n",
    "        #  helper.save_inference_samples(runs_dir, data_dir, sess, image_shape, logits, keep_prob, input_image)\n",
    "\n",
    "        helper.save_inference_sample(runs_dir, data_dir, sess, image_shape, logits,keep_prob, input_image)\n",
    "        \n",
    "        # OPTIONAL: Apply the trained model to a video\n",
    "\n"
   ]
  },
  {
   "cell_type": "code",
   "execution_count": null,
   "metadata": {},
   "outputs": [],
   "source": [
    "from tqdm import tqdm\n",
    "from os.path import isfile\n",
    "from urllib.request import urlretrieve\n",
    "\n",
    "image_data = \"data_road.zip\"\n",
    "\n",
    "import zipfile\n",
    "\n",
    "class DLProgress(tqdm):\n",
    "    last_block = 0\n",
    "\n",
    "    def hook(self, block_num=1, block_size=1, total_size=None):\n",
    "        self.total = total_size\n",
    "        self.update((block_num - self.last_block) * block_size)\n",
    "        self.last_block = block_num\n",
    "\n",
    "if not isfile(image_data):\n",
    "    with DLProgress(unit='B', unit_scale=True, miniters=1, desc='other data') as pbar:\n",
    "        urlretrieve(\n",
    "            'https://s3.eu-central-1.amazonaws.com/avg-kitti/data_road.zip',\n",
    "            image_data,\n",
    "            pbar.hook)\n",
    "print('Extracting data ...')\n",
    "zip_ref = zipfile.ZipFile('data_road.zip', 'r')\n",
    "zip_ref.extractall(\".\")\n",
    "zip_ref.close()"
   ]
  },
  {
   "cell_type": "code",
   "execution_count": null,
   "metadata": {},
   "outputs": [],
   "source": [
    "run()"
   ]
  },
  {
   "cell_type": "code",
   "execution_count": null,
   "metadata": {
    "collapsed": true
   },
   "outputs": [],
   "source": []
  }
 ],
 "metadata": {
  "kernelspec": {
   "display_name": "Python 3",
   "language": "python",
   "name": "python3"
  },
  "language_info": {
   "codemirror_mode": {
    "name": "ipython",
    "version": 3
   },
   "file_extension": ".py",
   "mimetype": "text/x-python",
   "name": "python",
   "nbconvert_exporter": "python",
   "pygments_lexer": "ipython3",
   "version": "3.5.3"
  }
 },
 "nbformat": 4,
 "nbformat_minor": 2
}
